{
 "cells": [
  {
   "cell_type": "markdown",
   "id": "b8a02e76",
   "metadata": {},
   "source": [
    "# TODO\n",
    "\n",
    "1. Limpiar los genres de los animes"
   ]
  },
  {
   "cell_type": "code",
   "execution_count": 1,
   "id": "1c7081a1",
   "metadata": {},
   "outputs": [],
   "source": [
    "import os\n",
    "import pandas as pd"
   ]
  },
  {
   "cell_type": "code",
   "execution_count": 2,
   "id": "5c9aaafa",
   "metadata": {},
   "outputs": [],
   "source": [
    "CWD = os.getcwd()"
   ]
  },
  {
   "cell_type": "code",
   "execution_count": 3,
   "id": "01233f87",
   "metadata": {},
   "outputs": [],
   "source": [
    "PATH_INPUT_FOLDER = os.path.join(CWD, \"input\")"
   ]
  },
  {
   "cell_type": "code",
   "execution_count": 4,
   "id": "1166977d",
   "metadata": {},
   "outputs": [
    {
     "data": {
      "text/plain": [
       "'/Users/nicolaepopescul/Desktop/streams/20240511_content_based_recommenders/input'"
      ]
     },
     "execution_count": 4,
     "metadata": {},
     "output_type": "execute_result"
    }
   ],
   "source": [
    "PATH_INPUT_FOLDER"
   ]
  },
  {
   "cell_type": "code",
   "execution_count": 5,
   "id": "35a78b39",
   "metadata": {},
   "outputs": [
    {
     "data": {
      "text/plain": [
       "['cf_anime.parquet.gzip', 'cf_rating.parquet.gzip']"
      ]
     },
     "execution_count": 5,
     "metadata": {},
     "output_type": "execute_result"
    }
   ],
   "source": [
    "os.listdir(PATH_INPUT_FOLDER)"
   ]
  },
  {
   "cell_type": "code",
   "execution_count": 6,
   "id": "f37e0524",
   "metadata": {},
   "outputs": [],
   "source": [
    "rating = pd.read_parquet(os.path.join(PATH_INPUT_FOLDER, 'cf_rating.parquet.gzip'))\n",
    "anime = pd.read_parquet(os.path.join(PATH_INPUT_FOLDER, 'cf_anime.parquet.gzip'))"
   ]
  },
  {
   "cell_type": "code",
   "execution_count": 7,
   "id": "ce949e7e",
   "metadata": {},
   "outputs": [],
   "source": [
    "rating = rating[rating[\"rating\"] != -1]"
   ]
  },
  {
   "cell_type": "code",
   "execution_count": 8,
   "id": "cb982d71",
   "metadata": {},
   "outputs": [
    {
     "data": {
      "text/html": [
       "<div>\n",
       "<style scoped>\n",
       "    .dataframe tbody tr th:only-of-type {\n",
       "        vertical-align: middle;\n",
       "    }\n",
       "\n",
       "    .dataframe tbody tr th {\n",
       "        vertical-align: top;\n",
       "    }\n",
       "\n",
       "    .dataframe thead th {\n",
       "        text-align: right;\n",
       "    }\n",
       "</style>\n",
       "<table border=\"1\" class=\"dataframe\">\n",
       "  <thead>\n",
       "    <tr style=\"text-align: right;\">\n",
       "      <th></th>\n",
       "      <th>user_id</th>\n",
       "      <th>anime_id</th>\n",
       "      <th>rating</th>\n",
       "    </tr>\n",
       "  </thead>\n",
       "  <tbody>\n",
       "    <tr>\n",
       "      <th>5377732</th>\n",
       "      <td>50877</td>\n",
       "      <td>269</td>\n",
       "      <td>9</td>\n",
       "    </tr>\n",
       "    <tr>\n",
       "      <th>3481985</th>\n",
       "      <td>32185</td>\n",
       "      <td>13469</td>\n",
       "      <td>7</td>\n",
       "    </tr>\n",
       "    <tr>\n",
       "      <th>9668</th>\n",
       "      <td>123</td>\n",
       "      <td>7857</td>\n",
       "      <td>6</td>\n",
       "    </tr>\n",
       "    <tr>\n",
       "      <th>4401745</th>\n",
       "      <td>41544</td>\n",
       "      <td>2476</td>\n",
       "      <td>7</td>\n",
       "    </tr>\n",
       "    <tr>\n",
       "      <th>1905401</th>\n",
       "      <td>18512</td>\n",
       "      <td>1818</td>\n",
       "      <td>8</td>\n",
       "    </tr>\n",
       "  </tbody>\n",
       "</table>\n",
       "</div>"
      ],
      "text/plain": [
       "         user_id  anime_id  rating\n",
       "5377732    50877       269       9\n",
       "3481985    32185     13469       7\n",
       "9668         123      7857       6\n",
       "4401745    41544      2476       7\n",
       "1905401    18512      1818       8"
      ]
     },
     "execution_count": 8,
     "metadata": {},
     "output_type": "execute_result"
    }
   ],
   "source": [
    "rating.sample(5)"
   ]
  },
  {
   "cell_type": "code",
   "execution_count": 9,
   "id": "20250b4d",
   "metadata": {},
   "outputs": [],
   "source": [
    "anime = anime[[\"anime_id\", \"name\", \"genre\"]]"
   ]
  },
  {
   "cell_type": "code",
   "execution_count": 10,
   "id": "d13b1f5a",
   "metadata": {},
   "outputs": [
    {
     "data": {
      "text/html": [
       "<div>\n",
       "<style scoped>\n",
       "    .dataframe tbody tr th:only-of-type {\n",
       "        vertical-align: middle;\n",
       "    }\n",
       "\n",
       "    .dataframe tbody tr th {\n",
       "        vertical-align: top;\n",
       "    }\n",
       "\n",
       "    .dataframe thead th {\n",
       "        text-align: right;\n",
       "    }\n",
       "</style>\n",
       "<table border=\"1\" class=\"dataframe\">\n",
       "  <thead>\n",
       "    <tr style=\"text-align: right;\">\n",
       "      <th></th>\n",
       "      <th>anime_id</th>\n",
       "      <th>name</th>\n",
       "      <th>genre</th>\n",
       "    </tr>\n",
       "  </thead>\n",
       "  <tbody>\n",
       "    <tr>\n",
       "      <th>0</th>\n",
       "      <td>32281</td>\n",
       "      <td>Kimi no Na wa.</td>\n",
       "      <td>Drama, Romance, School, Supernatural</td>\n",
       "    </tr>\n",
       "    <tr>\n",
       "      <th>1</th>\n",
       "      <td>5114</td>\n",
       "      <td>Fullmetal Alchemist: Brotherhood</td>\n",
       "      <td>Action, Adventure, Drama, Fantasy, Magic, Mili...</td>\n",
       "    </tr>\n",
       "    <tr>\n",
       "      <th>2</th>\n",
       "      <td>28977</td>\n",
       "      <td>Gintama°</td>\n",
       "      <td>Action, Comedy, Historical, Parody, Samurai, S...</td>\n",
       "    </tr>\n",
       "    <tr>\n",
       "      <th>3</th>\n",
       "      <td>9253</td>\n",
       "      <td>Steins;Gate</td>\n",
       "      <td>Sci-Fi, Thriller</td>\n",
       "    </tr>\n",
       "    <tr>\n",
       "      <th>4</th>\n",
       "      <td>9969</td>\n",
       "      <td>Gintama&amp;#039;</td>\n",
       "      <td>Action, Comedy, Historical, Parody, Samurai, S...</td>\n",
       "    </tr>\n",
       "  </tbody>\n",
       "</table>\n",
       "</div>"
      ],
      "text/plain": [
       "   anime_id                              name  \\\n",
       "0     32281                    Kimi no Na wa.   \n",
       "1      5114  Fullmetal Alchemist: Brotherhood   \n",
       "2     28977                          Gintama°   \n",
       "3      9253                       Steins;Gate   \n",
       "4      9969                     Gintama&#039;   \n",
       "\n",
       "                                               genre  \n",
       "0               Drama, Romance, School, Supernatural  \n",
       "1  Action, Adventure, Drama, Fantasy, Magic, Mili...  \n",
       "2  Action, Comedy, Historical, Parody, Samurai, S...  \n",
       "3                                   Sci-Fi, Thriller  \n",
       "4  Action, Comedy, Historical, Parody, Samurai, S...  "
      ]
     },
     "execution_count": 10,
     "metadata": {},
     "output_type": "execute_result"
    }
   ],
   "source": [
    "anime.head()"
   ]
  },
  {
   "cell_type": "code",
   "execution_count": 11,
   "id": "9bbde8be",
   "metadata": {},
   "outputs": [],
   "source": [
    "genres = anime[\"genre\"].str.split(\", \", expand = True)"
   ]
  },
  {
   "cell_type": "code",
   "execution_count": 12,
   "id": "ab4dceac",
   "metadata": {},
   "outputs": [],
   "source": [
    "anime = pd.concat([anime, genres], axis = 1)"
   ]
  },
  {
   "cell_type": "code",
   "execution_count": 13,
   "id": "b071a8cf",
   "metadata": {},
   "outputs": [
    {
     "data": {
      "text/html": [
       "<div>\n",
       "<style scoped>\n",
       "    .dataframe tbody tr th:only-of-type {\n",
       "        vertical-align: middle;\n",
       "    }\n",
       "\n",
       "    .dataframe tbody tr th {\n",
       "        vertical-align: top;\n",
       "    }\n",
       "\n",
       "    .dataframe thead th {\n",
       "        text-align: right;\n",
       "    }\n",
       "</style>\n",
       "<table border=\"1\" class=\"dataframe\">\n",
       "  <thead>\n",
       "    <tr style=\"text-align: right;\">\n",
       "      <th></th>\n",
       "      <th>anime_id</th>\n",
       "      <th>name</th>\n",
       "      <th>genre</th>\n",
       "      <th>0</th>\n",
       "      <th>1</th>\n",
       "      <th>2</th>\n",
       "      <th>3</th>\n",
       "      <th>4</th>\n",
       "      <th>5</th>\n",
       "      <th>6</th>\n",
       "      <th>7</th>\n",
       "      <th>8</th>\n",
       "      <th>9</th>\n",
       "      <th>10</th>\n",
       "      <th>11</th>\n",
       "      <th>12</th>\n",
       "    </tr>\n",
       "  </thead>\n",
       "  <tbody>\n",
       "    <tr>\n",
       "      <th>0</th>\n",
       "      <td>32281</td>\n",
       "      <td>Kimi no Na wa.</td>\n",
       "      <td>Drama, Romance, School, Supernatural</td>\n",
       "      <td>Drama</td>\n",
       "      <td>Romance</td>\n",
       "      <td>School</td>\n",
       "      <td>Supernatural</td>\n",
       "      <td>None</td>\n",
       "      <td>None</td>\n",
       "      <td>None</td>\n",
       "      <td>None</td>\n",
       "      <td>None</td>\n",
       "      <td>None</td>\n",
       "      <td>None</td>\n",
       "      <td>None</td>\n",
       "      <td>None</td>\n",
       "    </tr>\n",
       "    <tr>\n",
       "      <th>1</th>\n",
       "      <td>5114</td>\n",
       "      <td>Fullmetal Alchemist: Brotherhood</td>\n",
       "      <td>Action, Adventure, Drama, Fantasy, Magic, Mili...</td>\n",
       "      <td>Action</td>\n",
       "      <td>Adventure</td>\n",
       "      <td>Drama</td>\n",
       "      <td>Fantasy</td>\n",
       "      <td>Magic</td>\n",
       "      <td>Military</td>\n",
       "      <td>Shounen</td>\n",
       "      <td>None</td>\n",
       "      <td>None</td>\n",
       "      <td>None</td>\n",
       "      <td>None</td>\n",
       "      <td>None</td>\n",
       "      <td>None</td>\n",
       "    </tr>\n",
       "    <tr>\n",
       "      <th>2</th>\n",
       "      <td>28977</td>\n",
       "      <td>Gintama°</td>\n",
       "      <td>Action, Comedy, Historical, Parody, Samurai, S...</td>\n",
       "      <td>Action</td>\n",
       "      <td>Comedy</td>\n",
       "      <td>Historical</td>\n",
       "      <td>Parody</td>\n",
       "      <td>Samurai</td>\n",
       "      <td>Sci-Fi</td>\n",
       "      <td>Shounen</td>\n",
       "      <td>None</td>\n",
       "      <td>None</td>\n",
       "      <td>None</td>\n",
       "      <td>None</td>\n",
       "      <td>None</td>\n",
       "      <td>None</td>\n",
       "    </tr>\n",
       "  </tbody>\n",
       "</table>\n",
       "</div>"
      ],
      "text/plain": [
       "   anime_id                              name  \\\n",
       "0     32281                    Kimi no Na wa.   \n",
       "1      5114  Fullmetal Alchemist: Brotherhood   \n",
       "2     28977                          Gintama°   \n",
       "\n",
       "                                               genre       0          1  \\\n",
       "0               Drama, Romance, School, Supernatural   Drama    Romance   \n",
       "1  Action, Adventure, Drama, Fantasy, Magic, Mili...  Action  Adventure   \n",
       "2  Action, Comedy, Historical, Parody, Samurai, S...  Action     Comedy   \n",
       "\n",
       "            2             3        4         5        6     7     8     9  \\\n",
       "0      School  Supernatural     None      None     None  None  None  None   \n",
       "1       Drama       Fantasy    Magic  Military  Shounen  None  None  None   \n",
       "2  Historical        Parody  Samurai    Sci-Fi  Shounen  None  None  None   \n",
       "\n",
       "     10    11    12  \n",
       "0  None  None  None  \n",
       "1  None  None  None  \n",
       "2  None  None  None  "
      ]
     },
     "execution_count": 13,
     "metadata": {},
     "output_type": "execute_result"
    }
   ],
   "source": [
    "anime.head(3)"
   ]
  },
  {
   "cell_type": "code",
   "execution_count": 14,
   "id": "8a7e5d8a",
   "metadata": {},
   "outputs": [],
   "source": [
    "anime_genre = (\n",
    "    anime[[\"anime_id\"] + genres.columns.tolist()]\n",
    "    .melt(id_vars = \"anime_id\")\n",
    "    [[\"anime_id\", \"value\"]]\n",
    "    .dropna()\n",
    "    .pivot_table(\n",
    "        index = \"anime_id\",\n",
    "        columns = \"value\",\n",
    "        aggfunc = len,\n",
    "        fill_value = 0\n",
    "    )\n",
    ")"
   ]
  },
  {
   "cell_type": "code",
   "execution_count": 15,
   "id": "125c24dc",
   "metadata": {},
   "outputs": [
    {
     "data": {
      "text/html": [
       "<div>\n",
       "<style scoped>\n",
       "    .dataframe tbody tr th:only-of-type {\n",
       "        vertical-align: middle;\n",
       "    }\n",
       "\n",
       "    .dataframe tbody tr th {\n",
       "        vertical-align: top;\n",
       "    }\n",
       "\n",
       "    .dataframe thead th {\n",
       "        text-align: right;\n",
       "    }\n",
       "</style>\n",
       "<table border=\"1\" class=\"dataframe\">\n",
       "  <thead>\n",
       "    <tr style=\"text-align: right;\">\n",
       "      <th>value</th>\n",
       "      <th>Action</th>\n",
       "      <th>Adventure</th>\n",
       "      <th>Cars</th>\n",
       "      <th>Comedy</th>\n",
       "      <th>Dementia</th>\n",
       "      <th>Demons</th>\n",
       "      <th>Drama</th>\n",
       "      <th>Ecchi</th>\n",
       "      <th>Fantasy</th>\n",
       "      <th>Game</th>\n",
       "      <th>...</th>\n",
       "      <th>Shounen Ai</th>\n",
       "      <th>Slice of Life</th>\n",
       "      <th>Space</th>\n",
       "      <th>Sports</th>\n",
       "      <th>Super Power</th>\n",
       "      <th>Supernatural</th>\n",
       "      <th>Thriller</th>\n",
       "      <th>Vampire</th>\n",
       "      <th>Yaoi</th>\n",
       "      <th>Yuri</th>\n",
       "    </tr>\n",
       "    <tr>\n",
       "      <th>anime_id</th>\n",
       "      <th></th>\n",
       "      <th></th>\n",
       "      <th></th>\n",
       "      <th></th>\n",
       "      <th></th>\n",
       "      <th></th>\n",
       "      <th></th>\n",
       "      <th></th>\n",
       "      <th></th>\n",
       "      <th></th>\n",
       "      <th></th>\n",
       "      <th></th>\n",
       "      <th></th>\n",
       "      <th></th>\n",
       "      <th></th>\n",
       "      <th></th>\n",
       "      <th></th>\n",
       "      <th></th>\n",
       "      <th></th>\n",
       "      <th></th>\n",
       "      <th></th>\n",
       "    </tr>\n",
       "  </thead>\n",
       "  <tbody>\n",
       "    <tr>\n",
       "      <th>1</th>\n",
       "      <td>1</td>\n",
       "      <td>1</td>\n",
       "      <td>0</td>\n",
       "      <td>1</td>\n",
       "      <td>0</td>\n",
       "      <td>0</td>\n",
       "      <td>1</td>\n",
       "      <td>0</td>\n",
       "      <td>0</td>\n",
       "      <td>0</td>\n",
       "      <td>...</td>\n",
       "      <td>0</td>\n",
       "      <td>0</td>\n",
       "      <td>1</td>\n",
       "      <td>0</td>\n",
       "      <td>0</td>\n",
       "      <td>0</td>\n",
       "      <td>0</td>\n",
       "      <td>0</td>\n",
       "      <td>0</td>\n",
       "      <td>0</td>\n",
       "    </tr>\n",
       "    <tr>\n",
       "      <th>5</th>\n",
       "      <td>1</td>\n",
       "      <td>0</td>\n",
       "      <td>0</td>\n",
       "      <td>0</td>\n",
       "      <td>0</td>\n",
       "      <td>0</td>\n",
       "      <td>1</td>\n",
       "      <td>0</td>\n",
       "      <td>0</td>\n",
       "      <td>0</td>\n",
       "      <td>...</td>\n",
       "      <td>0</td>\n",
       "      <td>0</td>\n",
       "      <td>1</td>\n",
       "      <td>0</td>\n",
       "      <td>0</td>\n",
       "      <td>0</td>\n",
       "      <td>0</td>\n",
       "      <td>0</td>\n",
       "      <td>0</td>\n",
       "      <td>0</td>\n",
       "    </tr>\n",
       "    <tr>\n",
       "      <th>6</th>\n",
       "      <td>1</td>\n",
       "      <td>0</td>\n",
       "      <td>0</td>\n",
       "      <td>1</td>\n",
       "      <td>0</td>\n",
       "      <td>0</td>\n",
       "      <td>0</td>\n",
       "      <td>0</td>\n",
       "      <td>0</td>\n",
       "      <td>0</td>\n",
       "      <td>...</td>\n",
       "      <td>0</td>\n",
       "      <td>0</td>\n",
       "      <td>0</td>\n",
       "      <td>0</td>\n",
       "      <td>0</td>\n",
       "      <td>0</td>\n",
       "      <td>0</td>\n",
       "      <td>0</td>\n",
       "      <td>0</td>\n",
       "      <td>0</td>\n",
       "    </tr>\n",
       "  </tbody>\n",
       "</table>\n",
       "<p>3 rows × 43 columns</p>\n",
       "</div>"
      ],
      "text/plain": [
       "value     Action  Adventure  Cars  Comedy  Dementia  Demons  Drama  Ecchi  \\\n",
       "anime_id                                                                    \n",
       "1              1          1     0       1         0       0      1      0   \n",
       "5              1          0     0       0         0       0      1      0   \n",
       "6              1          0     0       1         0       0      0      0   \n",
       "\n",
       "value     Fantasy  Game  ...  Shounen Ai  Slice of Life  Space  Sports  \\\n",
       "anime_id                 ...                                             \n",
       "1               0     0  ...           0              0      1       0   \n",
       "5               0     0  ...           0              0      1       0   \n",
       "6               0     0  ...           0              0      0       0   \n",
       "\n",
       "value     Super Power  Supernatural  Thriller  Vampire  Yaoi  Yuri  \n",
       "anime_id                                                            \n",
       "1                   0             0         0        0     0     0  \n",
       "5                   0             0         0        0     0     0  \n",
       "6                   0             0         0        0     0     0  \n",
       "\n",
       "[3 rows x 43 columns]"
      ]
     },
     "execution_count": 15,
     "metadata": {},
     "output_type": "execute_result"
    }
   ],
   "source": [
    "anime_genre.head(3)"
   ]
  },
  {
   "cell_type": "code",
   "execution_count": 16,
   "id": "9c74a89f",
   "metadata": {},
   "outputs": [],
   "source": [
    "oc = [\n",
    "    'user_id',\n",
    "    'name',\n",
    "    'rating',\n",
    "    'Action',\n",
    "    'Adventure',\n",
    "    'Cars',\n",
    "    'Comedy',\n",
    "    'Dementia',\n",
    "    'Demons',\n",
    "    'Drama',\n",
    "    'Ecchi',\n",
    "    'Fantasy',\n",
    "    'Game',\n",
    "    'Harem',\n",
    "    'Hentai',\n",
    "    'Historical',\n",
    "    'Horror',\n",
    "    'Josei',\n",
    "    'Kids',\n",
    "    'Magic',\n",
    "    'Martial Arts',\n",
    "    'Mecha',\n",
    "    'Military',\n",
    "    'Music',\n",
    "    'Mystery',\n",
    "    'Parody',\n",
    "    'Police',\n",
    "    'Psychological',\n",
    "    'Romance',\n",
    "    'Samurai',\n",
    "    'School',\n",
    "    'Sci-Fi',\n",
    "    'Seinen',\n",
    "    'Shoujo',\n",
    "    'Shoujo Ai',\n",
    "    'Shounen',\n",
    "    'Shounen Ai',\n",
    "    'Slice of Life',\n",
    "    'Space',\n",
    "    'Sports',\n",
    "    'Super Power',\n",
    "    'Supernatural',\n",
    "    'Thriller',\n",
    "    'Vampire',\n",
    "    'Yaoi',\n",
    "    'Yuri'\n",
    "]"
   ]
  },
  {
   "cell_type": "code",
   "execution_count": 17,
   "id": "369f7bae",
   "metadata": {},
   "outputs": [],
   "source": [
    "X = pd.merge(\n",
    "    left = rating,\n",
    "    right = anime_genre.reset_index(),\n",
    "    how = \"inner\",\n",
    "    on = [\"anime_id\"]\n",
    ")"
   ]
  },
  {
   "cell_type": "code",
   "execution_count": 18,
   "id": "32b8fba4",
   "metadata": {},
   "outputs": [],
   "source": [
    "X = X.merge(right = anime[[\"anime_id\", \"name\"]], how = \"inner\", on = [\"anime_id\"])"
   ]
  },
  {
   "cell_type": "code",
   "execution_count": null,
   "id": "66d3259d",
   "metadata": {},
   "outputs": [],
   "source": [
    "X = X[oc]"
   ]
  },
  {
   "cell_type": "code",
   "execution_count": null,
   "id": "8c48b104",
   "metadata": {},
   "outputs": [],
   "source": [
    "X.sample(10)"
   ]
  },
  {
   "cell_type": "code",
   "execution_count": null,
   "id": "b65eccdb",
   "metadata": {},
   "outputs": [],
   "source": [
    "X.iloc[:, 3::] = X.iloc[:, 3::].multiply(X[\"rating\"], axis = 0)"
   ]
  },
  {
   "cell_type": "code",
   "execution_count": null,
   "id": "97bb6bf9",
   "metadata": {},
   "outputs": [],
   "source": [
    "X.sample(10)"
   ]
  },
  {
   "cell_type": "code",
   "execution_count": null,
   "id": "8a4f9579",
   "metadata": {},
   "outputs": [],
   "source": [
    "ponderated_score = (\n",
    "    X\n",
    "    .drop(columns = [\"name\", \"rating\"])\n",
    "    .groupby([\"user_id\"])\n",
    "    .sum()\n",
    "    .pipe(lambda df: df.divide(df.sum(axis = 1), axis = 0))\n",
    ")"
   ]
  },
  {
   "cell_type": "code",
   "execution_count": null,
   "id": "3c67f171",
   "metadata": {},
   "outputs": [],
   "source": [
    "ponderated_score"
   ]
  },
  {
   "cell_type": "markdown",
   "id": "8cd6867b",
   "metadata": {},
   "source": [
    "# Parte de Inferencia"
   ]
  },
  {
   "cell_type": "code",
   "execution_count": null,
   "id": "1c972411",
   "metadata": {},
   "outputs": [],
   "source": [
    "random_user = pd.Series(rating[\"user_id\"].unique()).sample().iloc[0]"
   ]
  },
  {
   "cell_type": "code",
   "execution_count": null,
   "id": "aea54700",
   "metadata": {},
   "outputs": [],
   "source": [
    "random_user"
   ]
  },
  {
   "cell_type": "code",
   "execution_count": null,
   "id": "fb513c66",
   "metadata": {},
   "outputs": [],
   "source": [
    "random_animes = anime_genre.reset_index()[\"anime_id\"].sample(10).values.tolist()"
   ]
  },
  {
   "cell_type": "code",
   "execution_count": null,
   "id": "157a48ac",
   "metadata": {},
   "outputs": [],
   "source": [
    "random_animes"
   ]
  },
  {
   "cell_type": "code",
   "execution_count": null,
   "id": "60f9cd58",
   "metadata": {},
   "outputs": [],
   "source": [
    "random_animes_genres = anime_genre[anime_genre.index.isin(random_animes)]"
   ]
  },
  {
   "cell_type": "code",
   "execution_count": null,
   "id": "86bb7e94",
   "metadata": {},
   "outputs": [],
   "source": [
    "random_animes_genres"
   ]
  },
  {
   "cell_type": "code",
   "execution_count": null,
   "id": "6088f2e1",
   "metadata": {},
   "outputs": [],
   "source": [
    "random_user_ponderated_score = ponderated_score[ponderated_score.index.isin([random_user])]"
   ]
  },
  {
   "cell_type": "code",
   "execution_count": null,
   "id": "0d9e165c",
   "metadata": {},
   "outputs": [],
   "source": [
    "random_user_ponderated_score"
   ]
  },
  {
   "cell_type": "code",
   "execution_count": null,
   "id": "9a1c6052",
   "metadata": {},
   "outputs": [],
   "source": [
    "r = (\n",
    "    random_user_ponderated_score.dot(random_animes_genres.T)\n",
    "    .T\n",
    "    .rename(columns = {random_user:\"score\"})\n",
    "    .sort_values(by = \"score\", ascending = False)\n",
    "    # .pipe(lambda df: pd.concat([df, random_animes_genres], axis = 1))\n",
    ")"
   ]
  },
  {
   "cell_type": "code",
   "execution_count": null,
   "id": "79650f09",
   "metadata": {},
   "outputs": [],
   "source": [
    "r"
   ]
  },
  {
   "cell_type": "code",
   "execution_count": null,
   "id": "28ea4f3b",
   "metadata": {},
   "outputs": [],
   "source": [
    "(\n",
    "    random_user_ponderated_score\n",
    "    .melt()\n",
    "    .sort_values(\"value\", ascending = False)\n",
    ")"
   ]
  },
  {
   "cell_type": "code",
   "execution_count": null,
   "id": "7baff449",
   "metadata": {},
   "outputs": [],
   "source": [
    "i = 1\n",
    "(\n",
    "    random_animes_genres.loc[r.index[i]][random_animes_genres.loc[r.index[i]] != 0]\n",
    ")"
   ]
  },
  {
   "cell_type": "code",
   "execution_count": null,
   "id": "e2414714",
   "metadata": {},
   "outputs": [],
   "source": []
  }
 ],
 "metadata": {
  "kernelspec": {
   "display_name": "env_skrub",
   "language": "python",
   "name": "env_skrub"
  },
  "language_info": {
   "codemirror_mode": {
    "name": "ipython",
    "version": 3
   },
   "file_extension": ".py",
   "mimetype": "text/x-python",
   "name": "python",
   "nbconvert_exporter": "python",
   "pygments_lexer": "ipython3",
   "version": "3.10.14"
  }
 },
 "nbformat": 4,
 "nbformat_minor": 5
}
